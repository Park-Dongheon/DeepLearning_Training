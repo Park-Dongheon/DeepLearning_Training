import pandas as pd
import numpy as np
import matplotlib.pyplot as plt

from statsmodels.graphics.tsaplots import plot_acf
from statsmodels.tsa.stattools import adfuller
from statsmodels.tsa.seasonal import seasonal_decompose, STL


df = pd.read_csv('data/jj.csv')
df['year'] = pd.DatetimeIndex(df['date']).year


advanced_decomposition = STL(df.data, period=4).fit()


fig, (ax1, ax2, ax3, ax4) = plt.subplots(nrows=4, ncols=1, sharex=True)
ax1.plot(advanced_decomposition.observed)
ax1.set_ylabel('observed')
ax2.plot(advanced_decomposition.trend)
ax2.set_ylabel('trend')
ax3.plot(advanced_decomposition.seasonal)
ax3.set_ylabel('seasonal')
ax4.plot(advanced_decomposition.resid)
ax4.set_ylabel('resid')

plt.xticks(
    np.arange(8, 85, 8),
    [1960, 1962, 1964, 1966, 1968, 1970, 1972, 1974, 1976, 1978, 1980]
)

fig.autofmt_xdate()
plt.tight_layout


df.head()


df.tail()


fig, ax = plt.subplots()
ax.plot(df['date'], df['data'])
ax.set_xlabel('Date')
ax.set_ylabel('pe share (USD)')
ax.axvspan(83, 83, color='#000000', alpha=0.2)

plt.xticks(
    np.arange(8, 85, 11),
    [1960, 1962, 1964, 1966, 1968, 1970, 1972, 1974, 1976, 1978, 1980]
)

fig.autofmt_xdate()
plt.tight_layout


train = df[:-4]
test = df[-4:]


historical_mean = np.mean(train['data'])
historical_mean


test.loc[:, 'pred_mean'] = historical_mean


def mape(y_true, y_pred):
    return np.mean(np.abs((y_true - y_pred) / y_true)) * 100


mape_historical_mean = mape(test['data'], test['pred_mean'])
mape_historical_mean


fig, ax = plt.subplots()

ax.plot(train['date'], train['data'], 'g-', label='Train')
ax.plot(test['date'], test['data'], 'b-', label='Test')
ax.plot(test['date'], test['pred_last_year_mean'], 'r--', label='Predicated')

ax.set_xlabel('Date')
ax.set_ylabel('per share (USD)')
ax.axvspan(83, 83, color='#000000', alpha=0.2)
ax.legend(loc=2)

plt.xticks(
    np.arange(8, 85, 8),
    [1960, 1962, 1964, 1966, 1968, 1970, 1972, 1974, 1976, 1978, 1980]
)

fig.autofmt_xdate()
plt.tight_layout





last_year_mean = np.mean(train['data'][-4:])
test.loc[:, 'pred_last_year_mean'] = last_year_mean
mape_last_year_mean = mape(test['data'], test['pred_last_year_mean'])
mape_last_year_mean


test.loc[:, 'pred_last_year_season'] = train['data'][-4:].values
mape_last_year_mean = mape(test['data'], test['pred_last_year_mean'])
mape_last_year_mean


fig, ax = plt.subplots()

ax.plot(train['date'], train['data'], 'g-', label='Train')
ax.plot(test['date'], test['data'], 'b-', label='Test')
ax.plot(test['date'], test['pred_last_year_mean'], 'r--', label='Predicated')

ax.set_xlabel('Date')
ax.set_ylabel('per share (USD)')
ax.axvspan(83, 83, color='#000000', alpha=0.2)
ax.legend(loc=2)

plt.xticks(
    np.arange(8, 85, 8),
    [1960, 1962, 1964, 1966, 1968, 1970, 1972, 1974, 1976, 1978, 1980]
)

fig.autofmt_xdate()
plt.tight_layout




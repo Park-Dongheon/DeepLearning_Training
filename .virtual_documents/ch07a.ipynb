import pandas as pd
import numpy as np
import matplotlib.pyplot as plt

from statsmodels.graphics.tsaplots import plot_acf
from statsmodels.tsa.stattools import adfuller
from statsmodels.tsa.seasonal import seasonal_decompose, STL





df = pd.read_csv("data/jj.csv")
df["year"] = pd.DatetimeIndex(df["date"]).year





advacned_decompositon = STL(df.data, period=4).fit()


fig, (ax1, ax2, ax3, ax4) = plt.subplots(nrows=4, ncols=1, sharex=True)
ax1.plot(advacned_decompositon.observed)
ax1.set_ylabel("observed")
ax2.plot(advacned_decompositon.trend)
ax2.set_ylabel("trend")
ax3.plot(advacned_decompositon.seasonal)
ax3.set_ylabel("seasonal")
ax4.plot(advacned_decompositon.resid)
ax4.set_ylabel("resid")
plt.xticks(
    np.arange(0, 85, 8),
    [1960, 1962, 1964, 1966, 1968, 1970, 1972, 1974, 1976, 1978, 1980]
)
fig.autofmt_xdate()
plt.tight_layout





df.head()


df.tail()


fig, ax = plt.subplots()

ax.plot(df["date"], df["data"])
ax.set_xlabel("Date")
ax.set_ylabel("per share (USD)")
ax.axvspan(80,83, color="#808080", alpha=0.2)

plt.xticks(
    np.arange(0, 85, 8),
    [1960, 1962, 1964, 1966, 1968, 1970, 1972, 1974, 1976, 1978, 1980]
)

fig.autofmt_xdate()
plt.tight_layout


train = df[:-4]
test = df[-4:]


historical_mean = np.mean(train["data"])
historical_mean


test.loc[:, "pred_mean"] = historical_mean


def mape(y_true, y_pred):
    return np.mean(np.abs((y_true - y_pred) / y_true)) * 100


mape_historical_mean = mape(test["data"], test["pred_mean"])
mape_historical_mean


fig, ax = plt.subplots()

ax.plot(train["date"], train["data"], "g-", label="Train")
ax.plot(test["date"], test["data"], "b-", label="Test")
ax.plot(test["date"], test["pred_mean"], "r--", label="Predicated")

ax.set_xlabel("Date")
ax.set_ylabel("per share (USD)")
ax.axvspan(80,83, color="#808080", alpha=0.2)
ax.legend(loc=2)

plt.xticks(
    np.arange(0, 85, 8),
    [1960, 1962, 1964, 1966, 1968, 1970, 1972, 1974, 1976, 1978, 1980]
)

fig.autofmt_xdate()
plt.tight_layout





last_year_mean = np.mean(train["data"][-4:])
test.loc[:, "pred_last_year_mean"] = last_year_mean
mape_last_year_mean = mape(test["data"], test["pred_last_year_mean"])
mape_last_year_mean


fig, ax = plt.subplots()

ax.plot(train["date"], train["data"], "g-", label="Train")
ax.plot(test["date"], test["data"], "b-", label="Test")
ax.plot(test["date"], test["pred_last_year_mean"], "r--", label="Predicated")

ax.set_xlabel("Date")
ax.set_ylabel("per share (USD)")
ax.axvspan(80,83, color="#808080", alpha=0.2)
ax.legend(loc=2)

plt.xticks(
    np.arange(0, 85, 8),
    [1960, 1962, 1964, 1966, 1968, 1970, 1972, 1974, 1976, 1978, 1980]
)

fig.autofmt_xdate()
plt.tight_layout


test.loc[:,"pred_last_season"] = train["data"][-4:].values
mape_last_year_mean = mape(test["data"], test["pred_last_season"])
mape_last_year_mean


fig, ax = plt.subplots()

ax.plot(train["date"], train["data"], "g-", label="Train")
ax.plot(test["date"], test["data"], "b-", label="Test")
ax.plot(test["date"], test["pred_last_season"], "r--", label="Predicated")

ax.set_xlabel("Date")
ax.set_ylabel("per share (USD)")
ax.axvspan(80,83, color="#808080", alpha=0.2)
ax.legend(loc=2)

plt.xticks(
    np.arange(0, 85, 8),
    [1960, 1962, 1964, 1966, 1968, 1970, 1972, 1974, 1976, 1978, 1980]
)

fig.autofmt_xdate()
plt.tight_layout





def simulate_process(is_stationary):
    np.random.seed(42)
    process = np.empty(400)
    
    if is_stationary:
        alpha = 0.5
        process[0] = 0
    else:
        alpha = 1
        process[0] = 10

    for i in range(400):
        if i + 1 < 400:
            process[i + 1] = alpha * process[i] + np.random.standard_normal()
        else:
            break

    return process


stationary = simulate_process(True)
non_stationary = simulate_process(False)


fig, ax = plt.subplots()

ax.plot(stationary, linestyle="-", label="stationary") # 정상성 Data
ax.plot(non_stationary, linestyle="--", label="stationary") # 비정상성 Data
ax.set_xlabel("Timesteps")
ax.set_ylabel("Value")
plt.tight_layout


np.random.seed(42)
steps = np.random.standard_normal(1000)
steps[0] = 0
random_walk = np.cumsum(steps)


fig, ax = plt.subplots()

ax.plot(random_walk, linestyle="-", label="stationary")
ax.set_xlabel("Timesteps")
ax.set_ylabel("Value")
plt.tight_layout


ADF_result = adfuller(random_walk)
print(ADF_result[0], ADF_result[1])


plot_acf(random_walk, lags=20)


diff_random_walk = np.diff(random_walk, n=1)


fig, ax = plt.subplots()

ax.plot(diff_random_walk, linestyle="-", label="stationary")
ax.set_xlabel("Timesteps")
ax.set_ylabel("Value")
plt.tight_layout


ADF_result = adfuller(diff_random_walk)
print(ADF_result[0], ADF_result[1])


plot_acf(diff_random_walk, lags=20)




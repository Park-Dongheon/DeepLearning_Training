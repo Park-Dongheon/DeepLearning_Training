import datetime
import pandas as pd
import numpy as np
import matplotlib.pyplot as plt

from statsmodels.tsa.statespace.sarimax import SARIMAX
from sklearn.metrics import mean_squared_error

from datetime import datetime


series = pd.read_csv('data/sales.csv', index_col=0, parse_dates=[0], date_format='%Y-%m')
series.head()


X = series.values
X = np.nan_to_num(X) # inf로 채움
size = int(len(X) * 0.66)
train, test = X[0:size], X[size:len(X)]
history = [x for x in train]
predictions = []


for t in range(len(test)):
    model = SARIMAX(history, order=(5, 1, 0))
    model_fit = model.fit(disp=0)
    output = model_fit.predict()
    yhat = output.mean()
    predictions.append(yhat)
    obs = test[t]
    history.append(obs)
    print(f'{yhat}, {obs}')


error = mean_squared_error(test, predictions)
print(error)


plt.plot(test)
plt.plot(predictions)


{

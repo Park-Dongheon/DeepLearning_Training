{
 "cells": [
  {
   "cell_type": "code",
   "execution_count": 1,
   "id": "2b621b55-6328-4c22-a83f-dc04929459a9",
   "metadata": {},
   "outputs": [],
   "source": [
    "import torch\n",
    "import torch.nn as nn"
   ]
  },
  {
   "cell_type": "code",
   "execution_count": 18,
   "id": "90a0ab89-c768-44e3-aa13-36024bc10efc",
   "metadata": {},
   "outputs": [],
   "source": [
    "X_train = torch.tensor([[0,0],\n",
    "                        [0,1],\n",
    "                        [1,0],\n",
    "                        [1,1.]])"
   ]
  },
  {
   "cell_type": "code",
   "execution_count": 20,
   "id": "e4788274-32b5-4e61-a3a8-f0ca00536372",
   "metadata": {},
   "outputs": [
    {
     "data": {
      "text/plain": [
       "(torch.Size([4, 2]), torch.float32)"
      ]
     },
     "execution_count": 20,
     "metadata": {},
     "output_type": "execute_result"
    }
   ],
   "source": [
    "X_train.shape, X_train.dtype"
   ]
  },
  {
   "cell_type": "code",
   "execution_count": 26,
   "id": "4994bec8-a0ca-45d4-b1e5-2da2e6222d31",
   "metadata": {},
   "outputs": [],
   "source": [
    "y_label = torch.tensor([[0],\n",
    "                        [0],\n",
    "                        [0],\n",
    "                        [1]])\n",
    "\n",
    "#y_label = torch.tensor([0, 0, 0, 1])"
   ]
  },
  {
   "cell_type": "code",
   "execution_count": 27,
   "id": "312cc067-35a0-47c4-b6cc-475766697ebe",
   "metadata": {},
   "outputs": [
    {
     "data": {
      "text/plain": [
       "torch.Size([4, 1])"
      ]
     },
     "execution_count": 27,
     "metadata": {},
     "output_type": "execute_result"
    }
   ],
   "source": [
    "y_label.shape"
   ]
  },
  {
   "cell_type": "code",
   "execution_count": 44,
   "id": "fc54b119-f009-40a1-a5f7-f30df0874404",
   "metadata": {},
   "outputs": [],
   "source": [
    "X_train = torch.rand(32, 4)"
   ]
  },
  {
   "cell_type": "code",
   "execution_count": 51,
   "id": "6a1ff022-cda6-4501-9b71-33d38a49e1ed",
   "metadata": {},
   "outputs": [],
   "source": [
    "linear = nn.Linear(4, 3)\n",
    "x = linear(X_train)\n",
    "#sigmoid = nn.Sigmoid()\n",
    "dropout = nn.Dropout()\n",
    "x = dropout(x)\n",
    "relu = nn.ReLU()\n",
    "x = relu(x)"
   ]
  },
  {
   "cell_type": "code",
   "execution_count": 52,
   "id": "f03837e7-54dc-40d2-8f50-5cecca0f697f",
   "metadata": {},
   "outputs": [
    {
     "data": {
      "text/plain": [
       "tensor([[0.7619, 0.2381],\n",
       "        [0.7602, 0.2398],\n",
       "        [0.7500, 0.2500],\n",
       "        [0.7273, 0.2727],\n",
       "        [0.7273, 0.2727],\n",
       "        [0.7393, 0.2607],\n",
       "        [0.7273, 0.2727],\n",
       "        [0.7304, 0.2696],\n",
       "        [0.7273, 0.2727],\n",
       "        [0.7739, 0.2261],\n",
       "        [0.7528, 0.2472],\n",
       "        [0.7344, 0.2656],\n",
       "        [0.7273, 0.2727],\n",
       "        [0.7306, 0.2694],\n",
       "        [0.7305, 0.2695],\n",
       "        [0.7273, 0.2727],\n",
       "        [0.7512, 0.2488],\n",
       "        [0.7291, 0.2709],\n",
       "        [0.7273, 0.2727],\n",
       "        [0.7626, 0.2374],\n",
       "        [0.7817, 0.2183],\n",
       "        [0.7620, 0.2380],\n",
       "        [0.7273, 0.2727],\n",
       "        [0.7273, 0.2727],\n",
       "        [0.7273, 0.2727],\n",
       "        [0.7273, 0.2727],\n",
       "        [0.7675, 0.2325],\n",
       "        [0.7309, 0.2691],\n",
       "        [0.7690, 0.2310],\n",
       "        [0.7273, 0.2727],\n",
       "        [0.7273, 0.2727],\n",
       "        [0.7458, 0.2542]], grad_fn=<SoftmaxBackward0>)"
      ]
     },
     "execution_count": 52,
     "metadata": {},
     "output_type": "execute_result"
    }
   ],
   "source": [
    "linear2 = nn.Linear(3, 2)\n",
    "softmax = nn.Softmax()\n",
    "x = linear2(x)\n",
    "softmax(x).shape"
   ]
  },
  {
   "cell_type": "code",
   "execution_count": 3,
   "id": "5893b0a0-708c-4fec-bda6-b80ab8a58366",
   "metadata": {},
   "outputs": [],
   "source": [
    "#nn.Linear(2, 1)\n",
    "#nn.Sigmoid()\n",
    "#nn.ReLU()\n",
    "#nn.Softmax()\n",
    "nn.Dropout()"
   ]
  },
  {
   "cell_type": "code",
   "execution_count": 88,
   "id": "d0737144-0cd1-4367-bc43-eab87e1f9fce",
   "metadata": {},
   "outputs": [],
   "source": [
    "batch_size = 64"
   ]
  },
  {
   "cell_type": "code",
   "execution_count": 89,
   "id": "ba3912ff-5700-4922-852d-489611d0004a",
   "metadata": {},
   "outputs": [
    {
     "data": {
      "text/plain": [
       "781.25"
      ]
     },
     "execution_count": 89,
     "metadata": {},
     "output_type": "execute_result"
    }
   ],
   "source": [
    "50000/batch_size"
   ]
  },
  {
   "cell_type": "code",
   "execution_count": 116,
   "id": "32742815-755e-4f13-998e-273def3886d4",
   "metadata": {},
   "outputs": [
    {
     "data": {
      "text/plain": [
       "torch.Size([64, 1, 28, 28])"
      ]
     },
     "execution_count": 116,
     "metadata": {},
     "output_type": "execute_result"
    }
   ],
   "source": [
    "image = torch.rand(batch_size, 1, 28, 28)\n",
    "image.shape"
   ]
  },
  {
   "cell_type": "code",
   "execution_count": 117,
   "id": "b94e75b4-2d43-4530-9391-ae5dd0c3ad02",
   "metadata": {},
   "outputs": [
    {
     "data": {
      "text/plain": [
       "torch.Size([64, 6, 14, 14])"
      ]
     },
     "execution_count": 117,
     "metadata": {},
     "output_type": "execute_result"
    }
   ],
   "source": [
    "conv = nn.Conv2d(1, 6, 3, padding='same')\n",
    "x = conv(image)\n",
    "dropout = nn.Dropout()\n",
    "x = dropout(x)\n",
    "relu = nn.ReLU()\n",
    "x = relu(x)\n",
    "pool = nn.MaxPool2d(2)\n",
    "x = pool(x)\n",
    "x.shape"
   ]
  },
  {
   "cell_type": "code",
   "execution_count": 118,
   "id": "5030bcf5-ac6d-4e2c-b15d-61df4cad7591",
   "metadata": {},
   "outputs": [
    {
     "data": {
      "text/plain": [
       "torch.Size([64, 16, 14, 14])"
      ]
     },
     "execution_count": 118,
     "metadata": {},
     "output_type": "execute_result"
    }
   ],
   "source": [
    "conv2 = nn.Conv2d(6, 16, 3, padding='same')\n",
    "dropout2 = nn.Dropout()\n",
    "x = dropout2(x)\n",
    "relu2 = nn.ReLU()\n",
    "x = relu2(x)\n",
    "x = conv2(x)\n",
    "x.shape"
   ]
  },
  {
   "cell_type": "code",
   "execution_count": 119,
   "id": "b2f61304-e683-42af-949a-831bc9c4deb1",
   "metadata": {},
   "outputs": [
    {
     "data": {
      "text/plain": [
       "torch.Size([64, 128, 7, 7])"
      ]
     },
     "execution_count": 119,
     "metadata": {},
     "output_type": "execute_result"
    }
   ],
   "source": [
    "conv3 = nn.Conv2d(16, 128, 3, padding='same')\n",
    "x = conv3(x)\n",
    "pool2 = nn.MaxPool2d(2)\n",
    "x = pool2(x)\n",
    "x.shape"
   ]
  },
  {
   "cell_type": "code",
   "execution_count": 120,
   "id": "252be06e-b470-4bc8-8cf9-b17e0cdb5091",
   "metadata": {},
   "outputs": [
    {
     "data": {
      "text/plain": [
       "torch.Size([64, 6272])"
      ]
     },
     "execution_count": 120,
     "metadata": {},
     "output_type": "execute_result"
    }
   ],
   "source": [
    "flatten = nn.Flatten()\n",
    "x = flatten(x)\n",
    "x.shape"
   ]
  },
  {
   "cell_type": "code",
   "execution_count": 121,
   "id": "947eed19-4249-4225-af00-3a37569b1653",
   "metadata": {},
   "outputs": [
    {
     "name": "stderr",
     "output_type": "stream",
     "text": [
      "C:\\Users\\user\\anaconda3\\envs\\torch-book\\Lib\\site-packages\\torch\\nn\\modules\\module.py:1553: UserWarning: Implicit dimension choice for softmax has been deprecated. Change the call to include dim=X as an argument.\n",
      "  return self._call_impl(*args, **kwargs)\n"
     ]
    },
    {
     "data": {
      "text/plain": [
       "torch.Size([64, 2])"
      ]
     },
     "execution_count": 121,
     "metadata": {},
     "output_type": "execute_result"
    }
   ],
   "source": [
    "linear = nn.Linear(6272, 2)\n",
    "x = linear(x)\n",
    "softmax = nn.Softmax()\n",
    "pred = softmax(x)\n",
    "pred.shape"
   ]
  },
  {
   "cell_type": "code",
   "execution_count": 123,
   "id": "0b8f3776-c95d-4b21-b0f5-c9f7f19619c1",
   "metadata": {},
   "outputs": [],
   "source": [
    "y_label = torch.rand(64, 2)"
   ]
  },
  {
   "cell_type": "code",
   "execution_count": 125,
   "id": "51d23347-e067-47e6-86f4-eb4073097ee4",
   "metadata": {},
   "outputs": [],
   "source": [
    "loss_fn = nn.CrossEntropyLoss()\n",
    "loss = loss_fn(pred, y_label)\n",
    "loss.backward()"
   ]
  },
  {
   "cell_type": "code",
   "execution_count": null,
   "id": "14933226-79d3-4abf-bc73-502893d66f60",
   "metadata": {},
   "outputs": [],
   "source": [
    "from torch.optim as optim\n",
    "optim.Adam(model.parameters(), lr=0.001)"
   ]
  },
  {
   "cell_type": "code",
   "execution_count": 105,
   "id": "743bcab8-1506-40fc-87e9-a59c01a095fa",
   "metadata": {},
   "outputs": [],
   "source": [
    "#nn.Conv2d(1, 6, 3)\n",
    "#nn.MaxPool2d(2, 2)\n",
    "#nn.Flatten()"
   ]
  },
  {
   "cell_type": "code",
   "execution_count": 15,
   "id": "e90ccbd8-cff5-4c04-b97d-1dfa24e9998d",
   "metadata": {},
   "outputs": [],
   "source": [
    "class LeNet5(nn.Module):\n",
    "    def __init__(self):\n",
    "        super(LeNet5, self).__init__()\n",
    "        self.features = nn.Sequential(nn.Conv2d(1, 6, 5, padding='same'),\n",
    "                       nn.ReLU(),\n",
    "                       nn.MaxPool2d(2),\n",
    "                       nn.Conv2d(6, 16, 5, padding='same'),\n",
    "                       nn.ReLU(),\n",
    "                       nn.MaxPool2d(2),\n",
    "                       nn.Conv2d(16, 126, 5, padding='same'),\n",
    "                       nn.ReLU(),\n",
    "                       nn.MaxPool2d(2))\n",
    "        self.flatten = nn.Flatten()\n",
    "        self.classifier = nn.Sequential(nn.Linear(126*3*3 , 128),\n",
    "                                        nn.ReLU(),\n",
    "                                        nn.Linear(128, 64),\n",
    "                                        nn.ReLU(),\n",
    "                                        nn.Linear(64, 10),\n",
    "                                        nn.Softmax(dim=1))\n",
    "\n",
    "    def forward(self, x):\n",
    "        x = self.features(x)\n",
    "        #print(x.shape)\n",
    "        x =self.flatten(x)\n",
    "        x = self.classifier(x)\n",
    "        return x\n"
   ]
  },
  {
   "cell_type": "code",
   "execution_count": 16,
   "id": "3a4928ec-d296-4ca5-8c77-1c0c59002384",
   "metadata": {},
   "outputs": [
    {
     "data": {
      "text/plain": [
       "LeNet5(\n",
       "  (features): Sequential(\n",
       "    (0): Conv2d(1, 6, kernel_size=(5, 5), stride=(1, 1), padding=same)\n",
       "    (1): ReLU()\n",
       "    (2): MaxPool2d(kernel_size=2, stride=2, padding=0, dilation=1, ceil_mode=False)\n",
       "    (3): Conv2d(6, 16, kernel_size=(5, 5), stride=(1, 1), padding=same)\n",
       "    (4): ReLU()\n",
       "    (5): MaxPool2d(kernel_size=2, stride=2, padding=0, dilation=1, ceil_mode=False)\n",
       "    (6): Conv2d(16, 126, kernel_size=(5, 5), stride=(1, 1), padding=same)\n",
       "    (7): ReLU()\n",
       "    (8): MaxPool2d(kernel_size=2, stride=2, padding=0, dilation=1, ceil_mode=False)\n",
       "  )\n",
       "  (flatten): Flatten(start_dim=1, end_dim=-1)\n",
       "  (classifier): Sequential(\n",
       "    (0): Linear(in_features=1134, out_features=128, bias=True)\n",
       "    (1): ReLU()\n",
       "    (2): Linear(in_features=128, out_features=64, bias=True)\n",
       "    (3): ReLU()\n",
       "    (4): Linear(in_features=64, out_features=10, bias=True)\n",
       "    (5): Softmax(dim=1)\n",
       "  )\n",
       ")"
      ]
     },
     "execution_count": 16,
     "metadata": {},
     "output_type": "execute_result"
    }
   ],
   "source": [
    "model = LeNet5()\n",
    "model"
   ]
  },
  {
   "cell_type": "code",
   "execution_count": 17,
   "id": "4c84364b-94eb-421d-bc6d-39b2f8da0cc1",
   "metadata": {},
   "outputs": [
    {
     "data": {
      "text/plain": [
       "torch.Size([64, 10])"
      ]
     },
     "execution_count": 17,
     "metadata": {},
     "output_type": "execute_result"
    }
   ],
   "source": [
    "images = torch.rand(64, 1, 28, 28)\n",
    "model(images).shape"
   ]
  },
  {
   "cell_type": "code",
   "execution_count": 152,
   "id": "4abedbd8-e83d-4ae6-9f11-87f8dfc3a406",
   "metadata": {},
   "outputs": [
    {
     "data": {
      "text/plain": [
       "1134"
      ]
     },
     "execution_count": 152,
     "metadata": {},
     "output_type": "execute_result"
    }
   ],
   "source": [
    "126 * 3 * 3"
   ]
  },
  {
   "cell_type": "code",
   "execution_count": 133,
   "id": "c030f426-7f5f-4153-baa4-d9196dc59041",
   "metadata": {},
   "outputs": [],
   "source": [
    "import torchvision.transforms.v2 as v2\n",
    "\n",
    "transform = v2.Compose([\n",
    "    #v2.RandomCrop(224),\n",
    "    v2.ToTensor()\n",
    "])"
   ]
  },
  {
   "cell_type": "code",
   "execution_count": 23,
   "id": "b83e68cc-6f75-4c74-8900-1c7b866b9157",
   "metadata": {},
   "outputs": [],
   "source": [
    "from torchvision import datasets\n",
    "#from torchvision.datasets import MNIST\n",
    "import torchvision.transforms.v2 as v2\n",
    "\n",
    "dataset = datasets.MNIST('data', download=True,`))"
   ]
  },
  {
   "cell_type": "code",
   "execution_count": 11,
   "id": "5daadb13-59bb-4dfe-bea5-7dd2f2f60f5b",
   "metadata": {},
   "outputs": [
    {
     "data": {
      "text/plain": [
       "(torch.Tensor, torch.Size([60000]))"
      ]
     },
     "execution_count": 11,
     "metadata": {},
     "output_type": "execute_result"
    }
   ],
   "source": [
    "type(dataset.targets), dataset.targets.shape"
   ]
  },
  {
   "cell_type": "code",
   "execution_count": 13,
   "id": "6bdb36d7-865c-4801-ac40-8b014b628d9f",
   "metadata": {},
   "outputs": [
    {
     "data": {
      "text/plain": [
       "(torch.Tensor, torch.Size([60000, 28, 28]))"
      ]
     },
     "execution_count": 13,
     "metadata": {},
     "output_type": "execute_result"
    }
   ],
   "source": [
    "type(dataset.data), dataset.data.shape"
   ]
  },
  {
   "cell_type": "code",
   "execution_count": 24,
   "id": "d89ecccd-77e1-4f21-bc16-006abf5a77ae",
   "metadata": {},
   "outputs": [],
   "source": [
    "from torch.utils.data import DataLoader"
   ]
  },
  {
   "cell_type": "code",
   "execution_count": 25,
   "id": "16831672-9228-4d20-856f-e011bb48af8f",
   "metadata": {},
   "outputs": [],
   "source": [
    "data_loader = DataLoader(dataset, batch_size=32)"
   ]
  },
  {
   "cell_type": "code",
   "execution_count": 26,
   "id": "3b636022-707d-42ed-b271-8826c09ca4d9",
   "metadata": {},
   "outputs": [
    {
     "name": "stdout",
     "output_type": "stream",
     "text": [
      "torch.Size([32, 1, 28, 28]) torch.Size([32])\n"
     ]
    }
   ],
   "source": [
    "for X_train, y_label in data_loader:\n",
    "    print(X_train.shape, y_label.shape)\n",
    "    break"
   ]
  },
  {
   "cell_type": "code",
   "execution_count": 27,
   "id": "473c8be2-0ec0-4712-8988-7bfa80d5fe8a",
   "metadata": {},
   "outputs": [],
   "source": [
    "loss_fn = nn.CrossEntropyLoss()"
   ]
  },
  {
   "cell_type": "code",
   "execution_count": 28,
   "id": "6e69d563-e73e-41b6-8bf9-8bdc710a2a96",
   "metadata": {},
   "outputs": [],
   "source": [
    "import torch.optim as optim\n",
    "optimizer = optim.Adam(model.parameters(), lr=0.001)"
   ]
  },
  {
   "cell_type": "code",
   "execution_count": 29,
   "id": "e630796f-4e12-41a7-ad83-7f32a0d1fc92",
   "metadata": {},
   "outputs": [
    {
     "data": {
      "text/plain": [
       "1875.0"
      ]
     },
     "execution_count": 29,
     "metadata": {},
     "output_type": "execute_result"
    }
   ],
   "source": [
    "60000/32"
   ]
  },
  {
   "cell_type": "code",
   "execution_count": 30,
   "id": "c057f45f-d6bb-4b87-8595-089dff8f560a",
   "metadata": {},
   "outputs": [],
   "source": [
    "epochs = 1\n",
    "\n",
    "for _ in range(epochs):\n",
    "    for X_train, y_label in data_loader:\n",
    "        optimizer.zero_grad()\n",
    "        outputs = model(X_train)\n",
    "        loss = loss_fn(outputs, y_label)\n",
    "        loss.backward()\n",
    "        optimizer.step()\n"
   ]
  },
  {
   "cell_type": "code",
   "execution_count": 181,
   "id": "6b90da73-c114-4445-b01c-8ee71f247317",
   "metadata": {},
   "outputs": [
    {
     "name": "stdout",
     "output_type": "stream",
     "text": [
      "EPOCH 1:\n",
      "  batch 1 loss: 0.01461380958557129\n",
      "  batch 101 loss: 1.4957772314548492\n",
      "  batch 201 loss: 2.978855329751968\n",
      "  batch 301 loss: 4.469010099172592\n",
      "  batch 401 loss: 5.957854236364365\n",
      "  batch 501 loss: 7.43622398853302\n",
      "  batch 601 loss: 8.917837839126587\n",
      "  batch 701 loss: 10.403029357194901\n",
      "  batch 801 loss: 11.883151834011079\n",
      "  batch 901 loss: 13.369904272556305\n",
      "  batch 1001 loss: 14.854144492149352\n",
      "  batch 1101 loss: 16.336448349952697\n",
      "  batch 1201 loss: 17.829021590948106\n",
      "  batch 1301 loss: 19.318303798437118\n",
      "  batch 1401 loss: 20.797057123184203\n",
      "  batch 1501 loss: 22.285961129665374\n",
      "  batch 1601 loss: 23.774455612897874\n",
      "  batch 1701 loss: 25.256509420871733\n",
      "  batch 1801 loss: 26.73381523013115\n"
     ]
    }
   ],
   "source": [
    "EPOCHS  = 1\n",
    "for n in range(EPOCHS ):\n",
    "    print('EPOCH {}:'.format(n + 1))\n",
    "    epoch_loss = 0\n",
    "    step_loss = 0\n",
    "    for idx, (X_train, y_label) in enumerate(data_loader):\n",
    "        optimizer.zero_grad()\n",
    "        outputs = model(X_train)\n",
    "        loss = loss_fn(outputs, y_label)\n",
    "        loss.backward()\n",
    "        optimzier.step()\n",
    "        step_loss += loss.item()\n",
    "        if idx % 100 == 0:\n",
    "            epoch_loss = step_loss / 100 # loss per batch\n",
    "            print('  batch {} loss: {}'.format(idx + 1, epoch_loss))\n",
    "            step_loss = 0"
   ]
  },
  {
   "cell_type": "code",
   "execution_count": null,
   "id": "9f9d8677-7aee-4e8c-8088-a3087d8955d4",
   "metadata": {},
   "outputs": [],
   "source": []
  }
 ],
 "metadata": {
  "kernelspec": {
   "display_name": "Python 3 (ipykernel)",
   "language": "python",
   "name": "python3"
  },
  "language_info": {
   "codemirror_mode": {
    "name": "ipython",
    "version": 3
   },
   "file_extension": ".py",
   "mimetype": "text/x-python",
   "name": "python",
   "nbconvert_exporter": "python",
   "pygments_lexer": "ipython3",
   "version": "3.12.4"
  }
 },
 "nbformat": 4,
 "nbformat_minor": 5
}

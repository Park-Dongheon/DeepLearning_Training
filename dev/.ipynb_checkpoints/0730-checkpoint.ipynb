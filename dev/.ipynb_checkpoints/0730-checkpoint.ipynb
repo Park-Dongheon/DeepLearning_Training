{
 "cells": [
  {
   "cell_type": "code",
   "execution_count": 1,
   "id": "1a09bfe8-59b5-49d3-8900-04823110afcd",
   "metadata": {},
   "outputs": [],
   "source": [
    "import numpy as np\n",
    "import pandas as pd\n",
    "import matplotlib.pyplot as plt\n",
    "%matplotlib inline\n",
    "import torch\n",
    "import torch.nn as nn"
   ]
  },
  {
   "cell_type": "code",
   "execution_count": 2,
   "id": "1ab7607b-a18c-42e3-99a8-a9dba1f77089",
   "metadata": {},
   "outputs": [],
   "source": [
    "X_train = torch.tensor([[0, 0],\n",
    "                        [0, 1],\n",
    "                        [1, 0],\n",
    "                        [1, 1.]])"
   ]
  },
  {
   "cell_type": "code",
   "execution_count": 3,
   "id": "32094993-a9bb-4c4f-b65e-d47163804174",
   "metadata": {},
   "outputs": [
    {
     "data": {
      "text/plain": [
       "(torch.Size([4, 2]), torch.float32)"
      ]
     },
     "execution_count": 3,
     "metadata": {},
     "output_type": "execute_result"
    }
   ],
   "source": [
    "X_train.shape, X_train.dtype"
   ]
  },
  {
   "cell_type": "code",
   "execution_count": 4,
   "id": "990a2515-97f1-474a-9c4a-017b6874da7f",
   "metadata": {},
   "outputs": [],
   "source": [
    "y_label = torch.tensor([[0],\n",
    "                        [0],\n",
    "                        [0],\n",
    "                        [1]])\n",
    "\n",
    "# y_label = torch.tensor([0, 0, 0, 1])"
   ]
  },
  {
   "cell_type": "code",
   "execution_count": 5,
   "id": "44cd72c1-f186-4f6c-812c-87207a737b46",
   "metadata": {},
   "outputs": [
    {
     "data": {
      "text/plain": [
       "(torch.Size([4, 1]), torch.int64)"
      ]
     },
     "execution_count": 5,
     "metadata": {},
     "output_type": "execute_result"
    }
   ],
   "source": [
    "y_label.shape, y_label.dtype"
   ]
  },
  {
   "cell_type": "code",
   "execution_count": 6,
   "id": "7ab859c5-95ad-4791-8fbd-7fa12b3b8ea5",
   "metadata": {},
   "outputs": [],
   "source": [
    "X_train = torch.rand(32, 4)"
   ]
  },
  {
   "cell_type": "code",
   "execution_count": 7,
   "id": "f6a440b3-a35d-45c8-aecd-bfa17abd27a7",
   "metadata": {},
   "outputs": [],
   "source": [
    "linear = nn.Linear(4, 3) # col : 2개, 출력 : 1개\n",
    "x = linear(X_train)\n",
    "# linear(X_train).shape\n",
    "\n",
    "# sigmoid = nn.Sigmoid()\n",
    "dropout = nn.Dropout() # 확률을 가지고 주사위 하나 하나 던지는 예\n",
    "\n",
    "relu = nn.ReLU()\n",
    "\n",
    "x = dropout(x)\n",
    "# x = sigmoid(x)\n",
    "x = relu(x)"
   ]
  },
  {
   "cell_type": "code",
   "execution_count": 8,
   "id": "648388e0-3334-4f59-94e6-8547fa437bc0",
   "metadata": {},
   "outputs": [
    {
     "data": {
      "text/plain": [
       "tensor([[0.3333, 0.3333, 0.3333],\n",
       "        [0.3829, 0.3086, 0.3086],\n",
       "        [0.3333, 0.3333, 0.3333],\n",
       "        [0.3333, 0.3333, 0.3333],\n",
       "        [0.3775, 0.3113, 0.3113],\n",
       "        [0.3333, 0.3333, 0.3333],\n",
       "        [0.3333, 0.3333, 0.3333],\n",
       "        [0.3333, 0.3333, 0.3333],\n",
       "        [0.2831, 0.4338, 0.2831],\n",
       "        [0.3333, 0.3333, 0.3333],\n",
       "        [0.3333, 0.3333, 0.3333],\n",
       "        [0.3818, 0.3091, 0.3091],\n",
       "        [0.3333, 0.3333, 0.3333],\n",
       "        [0.3333, 0.3333, 0.3333],\n",
       "        [0.3333, 0.3333, 0.3333],\n",
       "        [0.3916, 0.3042, 0.3042],\n",
       "        [0.3333, 0.3333, 0.3333],\n",
       "        [0.3333, 0.3333, 0.3333],\n",
       "        [0.3409, 0.3296, 0.3296],\n",
       "        [0.3333, 0.3333, 0.3333],\n",
       "        [0.3333, 0.3333, 0.3333],\n",
       "        [0.3333, 0.3333, 0.3333],\n",
       "        [0.3333, 0.3333, 0.3333],\n",
       "        [0.3333, 0.3333, 0.3333],\n",
       "        [0.3118, 0.3765, 0.3118],\n",
       "        [0.3333, 0.3333, 0.3333],\n",
       "        [0.3333, 0.3333, 0.3333],\n",
       "        [0.3333, 0.3333, 0.3333],\n",
       "        [0.3333, 0.3333, 0.3333],\n",
       "        [0.3333, 0.3333, 0.3333],\n",
       "        [0.3333, 0.3333, 0.3333],\n",
       "        [0.3333, 0.3333, 0.3333]], grad_fn=<SoftmaxBackward0>)"
      ]
     },
     "execution_count": 8,
     "metadata": {},
     "output_type": "execute_result"
    }
   ],
   "source": [
    "linear2 = nn.Linear(3, 2) # col : 2개, 출력 : 1개\n",
    "softmax = nn.Softmax(dim=1) # 개, 고양이 분류문제 -> 확률\n",
    "\n",
    "# linear2(x)\n",
    "softmax(x)"
   ]
  },
  {
   "cell_type": "code",
   "execution_count": 9,
   "id": "3046ff88-6515-4a2b-933e-89b65827fc4f",
   "metadata": {},
   "outputs": [],
   "source": [
    "batch_size = 64"
   ]
  },
  {
   "cell_type": "code",
   "execution_count": 10,
   "id": "a2077998-454a-49d0-b343-99387172e5d6",
   "metadata": {},
   "outputs": [
    {
     "data": {
      "text/plain": [
       "781.25"
      ]
     },
     "execution_count": 10,
     "metadata": {},
     "output_type": "execute_result"
    }
   ],
   "source": [
    "50000/batch_size"
   ]
  },
  {
   "cell_type": "code",
   "execution_count": 11,
   "id": "fcccbe9c-7fab-4320-ae36-35c39fb6e4d2",
   "metadata": {},
   "outputs": [
    {
     "data": {
      "text/plain": [
       "torch.Size([64, 1, 28, 28])"
      ]
     },
     "execution_count": 11,
     "metadata": {},
     "output_type": "execute_result"
    }
   ],
   "source": [
    "image = torch.rand(batch_size, 1, 28, 28) # batch_size:흑백 이미지 64장\n",
    "image.shape"
   ]
  },
  {
   "cell_type": "code",
   "execution_count": 12,
   "id": "f4e7567a-e79c-4c30-ae0a-acd8046092e9",
   "metadata": {},
   "outputs": [
    {
     "data": {
      "text/plain": [
       "torch.Size([64, 6, 14, 14])"
      ]
     },
     "execution_count": 12,
     "metadata": {},
     "output_type": "execute_result"
    }
   ],
   "source": [
    "conv = nn.Conv2d(1, 6, 3, padding='same') # 입력채널:1, 출력채널:6, 커널사이즈:3, padding='same':사이즈 똑같이 만들어줌\n",
    "x = conv(image) # 채널이 6개로 바뀌고, 26x26 픽셀사이즈로 바뀜(커널 사이즈에 따라 계산값이 달라짐)\n",
    "dropout = nn.Dropout()\n",
    "x = dropout(x)\n",
    "relu = nn.ReLU()\n",
    "x = relu(x)\n",
    "\n",
    "pool = nn.MaxPool2d(2)\n",
    "x = pool(x)\n",
    "x.shape"
   ]
  },
  {
   "cell_type": "code",
   "execution_count": 13,
   "id": "896e299e-089b-4f8d-925a-d32bd8a539c4",
   "metadata": {},
   "outputs": [
    {
     "data": {
      "text/plain": [
       "torch.Size([64, 16, 14, 14])"
      ]
     },
     "execution_count": 13,
     "metadata": {},
     "output_type": "execute_result"
    }
   ],
   "source": [
    "conv2 = nn.Conv2d(6, 16, 3, padding='same')\n",
    "dropout2 = nn.Dropout()\n",
    "x = dropout2(x)\n",
    "relu2 = nn.ReLU()\n",
    "x = relu2(x)\n",
    "x = conv2(x)\n",
    "x.shape"
   ]
  },
  {
   "cell_type": "code",
   "execution_count": 14,
   "id": "af7a6506-551b-488c-aab2-5931015904ba",
   "metadata": {},
   "outputs": [
    {
     "data": {
      "text/plain": [
       "torch.Size([64, 128, 7, 7])"
      ]
     },
     "execution_count": 14,
     "metadata": {},
     "output_type": "execute_result"
    }
   ],
   "source": [
    "conv3 = nn.Conv2d(16, 128, 3, padding='same')\n",
    "x = conv3(x)\n",
    "pool2 = nn.MaxPool2d(2)\n",
    "x = pool2(x)\n",
    "x.shape"
   ]
  },
  {
   "cell_type": "code",
   "execution_count": 15,
   "id": "2b01904f-7bb5-4689-9886-e5acc3a8d0d3",
   "metadata": {},
   "outputs": [
    {
     "data": {
      "text/plain": [
       "torch.Size([64, 6272])"
      ]
     },
     "execution_count": 15,
     "metadata": {},
     "output_type": "execute_result"
    }
   ],
   "source": [
    "flatten = nn.Flatten()\n",
    "x = flatten(x)\n",
    "x.shape"
   ]
  },
  {
   "cell_type": "code",
   "execution_count": 16,
   "id": "5453fc0c-6f1c-4502-9b02-c1f35f3fa0e0",
   "metadata": {},
   "outputs": [
    {
     "data": {
      "text/plain": [
       "torch.Size([64, 2])"
      ]
     },
     "execution_count": 16,
     "metadata": {},
     "output_type": "execute_result"
    }
   ],
   "source": [
    "linear = nn.Linear(6272, 2)\n",
    "x = linear(x)\n",
    "softmax = nn.Softmax(dim=1)\n",
    "pred = softmax(x)\n",
    "pred.shape\n",
    "# linear(x).shape"
   ]
  },
  {
   "cell_type": "code",
   "execution_count": 17,
   "id": "3d12d81c-5945-41f5-8efd-5331b1952c31",
   "metadata": {},
   "outputs": [],
   "source": [
    "y_label = torch.rand(64, 2)"
   ]
  },
  {
   "cell_type": "code",
   "execution_count": 18,
   "id": "a2330409-2e70-4c1b-8659-e0ac50114ab5",
   "metadata": {},
   "outputs": [],
   "source": [
    "loss_fn = nn.CrossEntropyLoss()\n",
    "loss = loss_fn(x, y_label) # input, target\n",
    "loss.backward()"
   ]
  },
  {
   "cell_type": "code",
   "execution_count": 19,
   "id": "0db24c23-7460-4445-9b32-8eb95222f929",
   "metadata": {},
   "outputs": [],
   "source": [
    "class LeNet5(nn.Module):\n",
    "    def __init__(self):\n",
    "        super(LeNet5, self).__init__()\n",
    "        self.features = nn.Sequential(nn.Conv2d(1, 6, 5, padding='same'),\n",
    "                       nn.ReLU(),\n",
    "                       nn.MaxPool2d(2),\n",
    "                       nn.Conv2d(6, 16, 5, padding='same'),\n",
    "                       nn.ReLU(),\n",
    "                       nn.MaxPool2d(2),\n",
    "                       nn.Conv2d(16, 126, 5, padding='same'),\n",
    "                       nn.ReLU(),\n",
    "                       nn.MaxPool2d(2))\n",
    "        self.flatten = nn.Flatten()\n",
    "        self.classifier = nn.Sequential(nn.Linear(126*3*3 , 128),\n",
    "                                        nn.ReLU(),\n",
    "                                        nn.Linear(128, 64),\n",
    "                                        nn.ReLU(),\n",
    "                                        nn.Linear(64, 10),\n",
    "                                        nn.Softmax(dim=1))\n",
    "\n",
    "\n",
    "\n",
    "    def forward(self, x):\n",
    "        x = self.features(x)\n",
    "        #print(x.shape)\n",
    "        x =self.flatten(x)\n",
    "        x = self.classifier(x)\n",
    "        return x"
   ]
  },
  {
   "cell_type": "code",
   "execution_count": 21,
   "id": "5a40b104-2314-4ec8-9136-66e68e3840a8",
   "metadata": {},
   "outputs": [
    {
     "name": "stdout",
     "output_type": "stream",
     "text": [
      "LeNet5(\n",
      "  (features): Sequential(\n",
      "    (0): Conv2d(1, 6, kernel_size=(5, 5), stride=(1, 1), padding=same)\n",
      "    (1): ReLU()\n",
      "    (2): MaxPool2d(kernel_size=2, stride=2, padding=0, dilation=1, ceil_mode=False)\n",
      "    (3): Conv2d(6, 16, kernel_size=(5, 5), stride=(1, 1), padding=same)\n",
      "    (4): ReLU()\n",
      "    (5): MaxPool2d(kernel_size=2, stride=2, padding=0, dilation=1, ceil_mode=False)\n",
      "    (6): Conv2d(16, 126, kernel_size=(5, 5), stride=(1, 1), padding=same)\n",
      "    (7): ReLU()\n",
      "    (8): MaxPool2d(kernel_size=2, stride=2, padding=0, dilation=1, ceil_mode=False)\n",
      "  )\n",
      "  (flatten): Flatten(start_dim=1, end_dim=-1)\n",
      "  (classifier): Sequential(\n",
      "    (0): Linear(in_features=1134, out_features=128, bias=True)\n",
      "    (1): ReLU()\n",
      "    (2): Linear(in_features=128, out_features=64, bias=True)\n",
      "    (3): ReLU()\n",
      "    (4): Linear(in_features=64, out_features=10, bias=True)\n",
      "    (5): Softmax(dim=1)\n",
      "  )\n",
      ")\n"
     ]
    }
   ],
   "source": [
    "model = LeNet5()\n",
    "print(model)"
   ]
  },
  {
   "cell_type": "code",
   "execution_count": 22,
   "id": "65bef741-8ea2-4a1c-b3ce-799bcc9f433d",
   "metadata": {},
   "outputs": [
    {
     "data": {
      "text/plain": [
       "torch.Size([64, 10])"
      ]
     },
     "execution_count": 22,
     "metadata": {},
     "output_type": "execute_result"
    }
   ],
   "source": [
    "images = torch.rand(64, 1, 28, 28)\n",
    "model(images).shape"
   ]
  },
  {
   "cell_type": "code",
   "execution_count": null,
   "id": "a52e6c9a-3a80-472e-bf72-af86f4356b2a",
   "metadata": {},
   "outputs": [],
   "source": [
    "# import torch.optim as optim\n",
    "\n",
    "# optim.Adam(model.parameter(), lr=0.001)"
   ]
  },
  {
   "cell_type": "markdown",
   "id": "0d26ed90-b3f2-477f-a4b5-2059739baad3",
   "metadata": {},
   "source": [
    "## 6장. LeNet-5"
   ]
  },
  {
   "cell_type": "code",
   "execution_count": null,
   "id": "d27b4f19-8005-4078-a1aa-7f8cf09e49d7",
   "metadata": {},
   "outputs": [],
   "source": [
    "import torch\n",
    "import torchvision\n",
    "from torch.utils.data import DataLoader, Dataset\n",
    "from torchvision import transforms # 이미지 변환(전처리) 기능을 제공하는 라이브러리\n",
    "from torch.autograd import Variable\n",
    "from torch import optim # 경사 하강법을 이용하여 가중치를 구하기 위한 옵티마이저 라이브러리\n",
    "import torch.nn as nn\n",
    "import torch.nn.functional as F\n",
    "import os # 파일 경로에 대한 함수들을 제공\n",
    "import cv2\n",
    "from PIL import Image\n",
    "from tqdm import tqdm_notebook as tqdm # 진행 상황을 가시적으로 표현해 주는데, 특히 모델의 학습 경과를 확인하고 싶을 때 사용하는 라이브러리\n",
    "import random\n",
    "from matplotlib import pyplot as plt\n",
    "\n",
    "device = torch.device(\"cuda:0\" if torch.cuda.is_available() else \"cpu\") # 파이토치는 텐서플로와 다르게 GPU를 자동으로 할당해 주지 않기 때문에 GPU 할당을 모델과 데이터에 선언해 주어야 합니다."
   ]
  },
  {
   "cell_type": "code",
   "execution_count": null,
   "id": "82b2d0c0-4a5b-4f33-8eb1-179b6428a3f6",
   "metadata": {},
   "outputs": [],
   "source": [
    "#이미지 데이터셋 전처리\n",
    "class ImageTransform():\n",
    "    def __init__(self, resize, mean, std):\n",
    "        self.data_transform = {\n",
    "            'train': transforms.Compose([\n",
    "                transforms.RandomResizedCrop(resize, scale=(0.5, 1.0)),\n",
    "                transforms.RandomHorizontalFlip(),\n",
    "                transforms.ToTensor(),\n",
    "                transforms.Normalize(mean, std)\n",
    "            ]),\n",
    "            'val': transforms.Compose([\n",
    "                transforms.Resize(256),\n",
    "                transforms.CenterCrop(resize),\n",
    "                transforms.ToTensor(),\n",
    "                transforms.Normalize(mean, std)\n",
    "            ])\n",
    "        }\n",
    "\n",
    "    def __call__(self, img, phase):\n",
    "        return self.data_transform[phase](img)"
   ]
  },
  {
   "cell_type": "code",
   "execution_count": null,
   "id": "4be56a93-8d7a-4787-9797-b6f6d3b5466b",
   "metadata": {},
   "outputs": [],
   "source": [
    "#이미지 데이터셋을 불러온 후 훈련, 검증, 테스트로 분리\n",
    "cat_directory = r'data/dogs-vs-cats/Cat'\n",
    "dog_directory = r'data/dogs-vs-cats/Dog'\n",
    "\n",
    "cat_images_filepaths = sorted([os.path.join(cat_directory, f) for f in os.listdir(cat_directory)])\n",
    "dog_images_filepaths = sorted([os.path.join(dog_directory, f) for f in os.listdir(dog_directory)])\n",
    "\n",
    "images_filepaths = [*cat_images_filepaths, *dog_images_filepaths] # 개와 고양이 이미지들을 합쳐서 images_filepaths 에 저장\n",
    "correct_images_filepaths = [i for i in images_filepaths if cv2.imread(i) is not None]\n",
    "\n",
    "random.seed(42)\n",
    "random.shuffle(correct_images_filepaths)\n",
    "train_images_filepaths = correct_images_filepaths[:400] # 훈련용 400개의 이미지\n",
    "val_images_filepaths = correct_images_filepaths[400:-10] # 검증용 92개의 이미지\n",
    "test_images_filepaths = correct_images_filepaths[-10:] # 테스트용 열 개의 이미지\n",
    "print(len(train_images_filepaths), len(val_images_filepaths), len(test_images_filepaths))"
   ]
  },
  {
   "cell_type": "code",
   "execution_count": null,
   "id": "be224015-b86a-4a97-a95f-6a829bbbc611",
   "metadata": {},
   "outputs": [],
   "source": [
    "#테스트 데이터셋 이미지 확인 함수\n",
    "def display_image_grid(images_filepaths, predicted_labels=(), cols=5):\n",
    "    rows = len(images_filepaths) // cols\n",
    "    figure, ax = plt.subplots(nrows=rows, ncols=cols, figsize=(12, 6))\n",
    "    for i, image_filepath in enumerate(images_filepaths):\n",
    "        image = cv2.imread(image_filepath)\n",
    "        image = cv2.cvtColor(image, cv2.COLOR_BGR2RGB)\n",
    "        true_label = os.path.normpath(image_filepath).split(os.sep)[-2]\n",
    "        predicted_label = predicted_labels[i] if predicted_labels else true_label\n",
    "        color = \"green\" if true_label == predicted_label else \"red\" # 예측과 정답(레이블)이 동일하면 초록색으로 표시하고, 그렇지 않다면 빨간색으로 표시\n",
    "        ax.ravel()[i].imshow(image) # 개별 이미지를 출력\n",
    "        ax.ravel()[i].set_title(predicted_label, color=color) # predicted_label 을 타이틀로 사용\n",
    "        ax.ravel()[o]"
   ]
  }
 ],
 "metadata": {
  "kernelspec": {
   "display_name": "Python 3 (ipykernel)",
   "language": "python",
   "name": "python3"
  },
  "language_info": {
   "codemirror_mode": {
    "name": "ipython",
    "version": 3
   },
   "file_extension": ".py",
   "mimetype": "text/x-python",
   "name": "python",
   "nbconvert_exporter": "python",
   "pygments_lexer": "ipython3",
   "version": "3.12.4"
  }
 },
 "nbformat": 4,
 "nbformat_minor": 5
}

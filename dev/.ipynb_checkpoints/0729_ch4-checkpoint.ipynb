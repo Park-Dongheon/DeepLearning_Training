{
 "cells": [
  {
   "cell_type": "code",
   "execution_count": 1,
   "id": "447d0d98-0de3-49e7-8511-a2cd510ea23d",
   "metadata": {},
   "outputs": [],
   "source": [
    "import torch\n",
    "import torch.nn as nn\n",
    "import numpy as np\n",
    "import pandas as pd\n",
    "import matplotlib.pyplot as plt\n",
    "import seaborn as sns\n",
    "%matplotlib inline"
   ]
  },
  {
   "cell_type": "code",
   "execution_count": 17,
   "id": "10be3e1e-bbdd-4e3f-8f8f-9e07be240c8a",
   "metadata": {},
   "outputs": [],
   "source": [
    "# And_Gate\n",
    "and_data = torch.tensor([ [0, 0],\n",
    "                          [0, 1],\n",
    "                          [1, 0],\n",
    "                          [1, 1] ], dtype=torch.float32)\n",
    "and_labels = torch.tensor([ [0],\n",
    "                            [0],\n",
    "                            [0],\n",
    "                            [1] ], dtype=torch.float32)"
   ]
  },
  {
   "cell_type": "code",
   "execution_count": null,
   "id": "18bcd51e-433a-4174-b8c6-2263a7e91308",
   "metadata": {},
   "outputs": [],
   "source": [
    "# OR_Gate\n",
    "or_data = torch.tensor([ [0, 0],\n",
    "                         [0, 1],\n",
    "                         [1, 0],\n",
    "                         [1, 1] ], dtype=torch.float32)\n",
    "or_labels = torch.tensor([ [0],\n",
    "                           [1],\n",
    "                           [1],\n",
    "                           [1] ], dtype=torch.float32)"
   ]
  },
  {
   "cell_type": "code",
   "execution_count": 18,
   "id": "68cc76b6-af59-44da-b91a-423c962520f5",
   "metadata": {},
   "outputs": [
    {
     "data": {
      "text/plain": [
       "(32, 32)"
      ]
     },
     "execution_count": 18,
     "metadata": {},
     "output_type": "execute_result"
    }
   ],
   "source": [
    "import numpy as np\n",
    "\n",
    "np.random.rand(32, 32).shape"
   ]
  },
  {
   "cell_type": "code",
   "execution_count": null,
   "id": "bd8ae35e-c0f4-4f84-99dd-12c66a806987",
   "metadata": {},
   "outputs": [],
   "source": [
    "image_data = [32x32, 32x32, 32x32] for _ in range(10)]\n",
    "label_data = [새, 고양이, 강아지...]"
   ]
  },
  {
   "cell_type": "code",
   "execution_count": 3,
   "id": "fd8d1b3d-434b-4f76-9cba-c8a18c917641",
   "metadata": {},
   "outputs": [
    {
     "name": "stdout",
     "output_type": "stream",
     "text": [
      "torch.Size([4, 1])\n"
     ]
    },
    {
     "data": {
      "text/plain": [
       "tensor([[0.6020],\n",
       "        [0.6962],\n",
       "        [0.5653],\n",
       "        [0.6633]], grad_fn=<SigmoidBackward0>)"
      ]
     },
     "execution_count": 3,
     "metadata": {},
     "output_type": "execute_result"
    }
   ],
   "source": [
    "import torch.nn as nn\n",
    "\n",
    "l1 = nn.Linear(2, 1)\n",
    "x = l1(and_data)\n",
    "# torch.sigmoid(x) # 0.5 에 가까운 값\n",
    "# torch.relu(x) # 0보타 큰값은 0으로 가까운 값\n",
    "print(x.shape)\n",
    "\n",
    "act_fn = nn.Sigmoid()\n",
    "act_fn(x)"
   ]
  },
  {
   "cell_type": "code",
   "execution_count": 4,
   "id": "f6418f83-d787-47b1-8f1b-e1f435862cf6",
   "metadata": {},
   "outputs": [
    {
     "data": {
      "text/plain": [
       "(Parameter containing:\n",
       " tensor([[-0.1511,  0.4155]], requires_grad=True),\n",
       " Parameter containing:\n",
       " tensor([0.4138], requires_grad=True),\n",
       " <bound method Module.parameters of Linear(in_features=2, out_features=1, bias=True)>)"
      ]
     },
     "execution_count": 4,
     "metadata": {},
     "output_type": "execute_result"
    }
   ],
   "source": [
    "l1.weight, l1.bias, l1.parameters # Lindear 객체"
   ]
  },
  {
   "cell_type": "code",
   "execution_count": 5,
   "id": "bf547e8d-7678-4adb-b6a1-58126e6a9b48",
   "metadata": {},
   "outputs": [],
   "source": [
    "# perceptron 퍼셉트론\n",
    "class SimpleNN(nn.Module):\n",
    "    def __init__(self):\n",
    "        super(SimpleNN, self).__init__()\n",
    "        self.fc1 = nn.Linear(2, 1)\n",
    "        # self.fc1 = nn.Linear(2, 10)\n",
    "        self.sigmoid = nn.Sigmoid()\n",
    "        #self.fc2 = nn.Linear(2, 1)\n",
    "\n",
    "    def forward(self, x):\n",
    "        # x = torch.view(x, -1) # 이미지 데이터를 일자로 늘림\n",
    "        x = self.fc1(x)\n",
    "        x = self.sigmoid(x)\n",
    "        # x = torch.sigmoid(x)\n",
    "        #x = torch.sigmoid(self.fc2(x))\n",
    "        return x"
   ]
  },
  {
   "cell_type": "code",
   "execution_count": 6,
   "id": "fe71ce0d-e8a3-4593-ae3f-14c63feb44e7",
   "metadata": {},
   "outputs": [
    {
     "data": {
      "text/plain": [
       "SimpleNN(\n",
       "  (fc1): Linear(in_features=2, out_features=1, bias=True)\n",
       "  (sigmoid): Sigmoid()\n",
       ")"
      ]
     },
     "execution_count": 6,
     "metadata": {},
     "output_type": "execute_result"
    }
   ],
   "source": [
    "model = SimpleNN()\n",
    "model"
   ]
  },
  {
   "cell_type": "code",
   "execution_count": 7,
   "id": "6c15ad49-fca1-40d9-a2f6-586533f2ec97",
   "metadata": {},
   "outputs": [
    {
     "data": {
      "text/plain": [
       "tensor([[0.4340],\n",
       "        [0.4612],\n",
       "        [0.4709],\n",
       "        [0.4984]], grad_fn=<SigmoidBackward0>)"
      ]
     },
     "execution_count": 7,
     "metadata": {},
     "output_type": "execute_result"
    }
   ],
   "source": [
    "model(and_data)"
   ]
  },
  {
   "cell_type": "code",
   "execution_count": 8,
   "id": "3ddc7334-b877-40fd-ad1c-e6cf0412c999",
   "metadata": {},
   "outputs": [],
   "source": [
    "# criterion = nn.BCELoss()\n",
    "criterion = nn.CrossEntropyLoss()"
   ]
  },
  {
   "cell_type": "code",
   "execution_count": 9,
   "id": "c57a93df-368a-4693-aa8d-f49ad4c96242",
   "metadata": {},
   "outputs": [],
   "source": [
    "import torch.optim as optim\n",
    "\n",
    "optimizer = optim.Adam(model.parameters(), lr=1e-3)"
   ]
  },
  {
   "cell_type": "code",
   "execution_count": 10,
   "id": "9dc73a24-8d70-4c59-83f5-55861484c3b8",
   "metadata": {},
   "outputs": [],
   "source": [
    "model = SimpleNN()"
   ]
  },
  {
   "cell_type": "code",
   "execution_count": 19,
   "id": "19c47f71-f4bc-444b-bdda-62bd579468eb",
   "metadata": {},
   "outputs": [],
   "source": [
    "# tf.fit(model, data, loss_fn, optimizer, epoches=100) # 텐서플로우"
   ]
  },
  {
   "cell_type": "code",
   "execution_count": 15,
   "id": "7f7268b3-1abb-4b45-b8ba-100da9d0d5d4",
   "metadata": {},
   "outputs": [
    {
     "name": "stdout",
     "output_type": "stream",
     "text": [
      "loss tensor(0.5459, grad_fn=<BinaryCrossEntropyBackward0>)\n"
     ]
    }
   ],
   "source": [
    "# loss_fn = nn.BCELoss()\n",
    "loss_fn = nn.CrossEntropyLoss() # 확률로 결과가 나옴\n",
    "optimizer = optim.Adam(model.parameters(), lr=0.001)\n",
    "\n",
    "for epoch in range(1): # 파이 토치\n",
    "    optimizer.zero_grad()\n",
    "    outputs = model(and_data) # 바뀐 weight 값이 계속 반복\n",
    "    loss = loss_fn(outputs, and_labels)\n",
    "    print('loss', loss)\n",
    "    loss.backward() # 미분\n",
    "    optimizer.step() # 반대방향"
   ]
  },
  {
   "cell_type": "code",
   "execution_count": 16,
   "id": "9c9e063f-77dd-4d9b-8b7b-a09161dc9f27",
   "metadata": {},
   "outputs": [
    {
     "data": {
      "text/plain": [
       "tensor([[0.3008],\n",
       "        [0.4313],\n",
       "        [0.2609],\n",
       "        [0.3836]], grad_fn=<SigmoidBackward0>)"
      ]
     },
     "execution_count": 16,
     "metadata": {},
     "output_type": "execute_result"
    }
   ],
   "source": [
    "model(and_data)"
   ]
  },
  {
   "cell_type": "code",
   "execution_count": null,
   "id": "c7320797-cb16-41d9-b803-710cf1967573",
   "metadata": {},
   "outputs": [],
   "source": [
    "# def and_gate(x1, x2):\n",
    "#     return x1 and x2"
   ]
  }
 ],
 "metadata": {
  "kernelspec": {
   "display_name": "Python 3 (ipykernel)",
   "language": "python",
   "name": "python3"
  },
  "language_info": {
   "codemirror_mode": {
    "name": "ipython",
    "version": 3
   },
   "file_extension": ".py",
   "mimetype": "text/x-python",
   "name": "python",
   "nbconvert_exporter": "python",
   "pygments_lexer": "ipython3",
   "version": "3.12.4"
  }
 },
 "nbformat": 4,
 "nbformat_minor": 5
}

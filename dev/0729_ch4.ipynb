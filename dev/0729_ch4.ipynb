{
 "cells": [
  {
   "cell_type": "code",
   "execution_count": 1,
   "id": "447d0d98-0de3-49e7-8511-a2cd510ea23d",
   "metadata": {},
   "outputs": [],
   "source": [
    "import torch\n",
    "import torch.nn as nn\n",
    "import numpy as np\n",
    "import pandas as pd\n",
    "import matplotlib.pyplot as plt\n",
    "import seaborn as sns\n",
    "%matplotlib inline"
   ]
  },
  {
   "cell_type": "code",
   "execution_count": 2,
   "id": "10be3e1e-bbdd-4e3f-8f8f-9e07be240c8a",
   "metadata": {},
   "outputs": [],
   "source": [
    "# And_Gate\n",
    "and_data = torch.tensor([ [0, 0],\n",
    "                          [0, 1],\n",
    "                          [1, 0],\n",
    "                          [1, 1] ], dtype=torch.float32)\n",
    "and_labels = torch.tensor([ [0],\n",
    "                            [0],\n",
    "                            [0],\n",
    "                            [1] ], dtype=torch.float32)"
   ]
  },
  {
   "cell_type": "code",
   "execution_count": 3,
   "id": "18bcd51e-433a-4174-b8c6-2263a7e91308",
   "metadata": {},
   "outputs": [],
   "source": [
    "# OR_Gate\n",
    "or_data = torch.tensor([ [0, 0],\n",
    "                         [0, 1],\n",
    "                         [1, 0],\n",
    "                         [1, 1] ], dtype=torch.float32)\n",
    "or_labels = torch.tensor([ [0],\n",
    "                           [1],\n",
    "                           [1],\n",
    "                           [1] ], dtype=torch.float32)"
   ]
  },
  {
   "cell_type": "code",
   "execution_count": 4,
   "id": "68cc76b6-af59-44da-b91a-423c962520f5",
   "metadata": {},
   "outputs": [
    {
     "data": {
      "text/plain": [
       "(32, 32)"
      ]
     },
     "execution_count": 4,
     "metadata": {},
     "output_type": "execute_result"
    }
   ],
   "source": [
    "import numpy as np\n",
    "\n",
    "np.random.rand(32, 32).shape"
   ]
  },
  {
   "cell_type": "code",
   "execution_count": 5,
   "id": "fd8d1b3d-434b-4f76-9cba-c8a18c917641",
   "metadata": {},
   "outputs": [
    {
     "name": "stdout",
     "output_type": "stream",
     "text": [
      "torch.Size([4, 1])\n"
     ]
    },
    {
     "data": {
      "text/plain": [
       "tensor([[0.4541],\n",
       "        [0.5683],\n",
       "        [0.3848],\n",
       "        [0.4975]], grad_fn=<SigmoidBackward0>)"
      ]
     },
     "execution_count": 5,
     "metadata": {},
     "output_type": "execute_result"
    }
   ],
   "source": [
    "import torch.nn as nn\n",
    "\n",
    "l1 = nn.Linear(2, 1)\n",
    "x = l1(and_data)\n",
    "# torch.sigmoid(x) # 0.5 에 가까운 값\n",
    "# torch.relu(x) # 0보타 큰값은 0으로 가까운 값\n",
    "print(x.shape)\n",
    "\n",
    "act_fn = nn.Sigmoid()\n",
    "act_fn(x)"
   ]
  },
  {
   "cell_type": "code",
   "execution_count": 6,
   "id": "f6418f83-d787-47b1-8f1b-e1f435862cf6",
   "metadata": {},
   "outputs": [
    {
     "data": {
      "text/plain": [
       "(Parameter containing:\n",
       " tensor([[-0.2852,  0.4591]], requires_grad=True),\n",
       " Parameter containing:\n",
       " tensor([-0.1840], requires_grad=True),\n",
       " <bound method Module.parameters of Linear(in_features=2, out_features=1, bias=True)>)"
      ]
     },
     "execution_count": 6,
     "metadata": {},
     "output_type": "execute_result"
    }
   ],
   "source": [
    "l1.weight, l1.bias, l1.parameters # Lindear 객체"
   ]
  },
  {
   "cell_type": "code",
   "execution_count": 7,
   "id": "bf547e8d-7678-4adb-b6a1-58126e6a9b48",
   "metadata": {},
   "outputs": [],
   "source": [
    "# perceptron 퍼셉트론\n",
    "class SimpleNN(nn.Module):\n",
    "    def __init__(self):\n",
    "        super(SimpleNN, self).__init__()\n",
    "        self.fc1 = nn.Linear(2, 1)\n",
    "        # self.fc1 = nn.Linear(2, 10)\n",
    "        self.sigmoid = nn.Sigmoid()\n",
    "        #self.fc2 = nn.Linear(2, 1)\n",
    "\n",
    "    def forward(self, x):\n",
    "        # x = torch.view(x, -1) # 이미지 데이터를 일자로 늘림\n",
    "        x = self.fc1(x)\n",
    "        x = self.sigmoid(x)\n",
    "        # x = torch.sigmoid(x)\n",
    "        #x = torch.sigmoid(self.fc2(x))\n",
    "        return x"
   ]
  },
  {
   "cell_type": "code",
   "execution_count": 8,
   "id": "fe71ce0d-e8a3-4593-ae3f-14c63feb44e7",
   "metadata": {},
   "outputs": [
    {
     "data": {
      "text/plain": [
       "SimpleNN(\n",
       "  (fc1): Linear(in_features=2, out_features=1, bias=True)\n",
       "  (sigmoid): Sigmoid()\n",
       ")"
      ]
     },
     "execution_count": 8,
     "metadata": {},
     "output_type": "execute_result"
    }
   ],
   "source": [
    "model = SimpleNN()\n",
    "model"
   ]
  },
  {
   "cell_type": "code",
   "execution_count": 9,
   "id": "6c15ad49-fca1-40d9-a2f6-586533f2ec97",
   "metadata": {},
   "outputs": [
    {
     "data": {
      "text/plain": [
       "tensor([[0.4973],\n",
       "        [0.3426],\n",
       "        [0.4120],\n",
       "        [0.2695]], grad_fn=<SigmoidBackward0>)"
      ]
     },
     "execution_count": 9,
     "metadata": {},
     "output_type": "execute_result"
    }
   ],
   "source": [
    "model(and_data)"
   ]
  },
  {
   "cell_type": "code",
   "execution_count": 10,
   "id": "3ddc7334-b877-40fd-ad1c-e6cf0412c999",
   "metadata": {},
   "outputs": [],
   "source": [
    "# criterion = nn.BCELoss()\n",
    "criterion = nn.CrossEntropyLoss()"
   ]
  },
  {
   "cell_type": "code",
   "execution_count": 11,
   "id": "c57a93df-368a-4693-aa8d-f49ad4c96242",
   "metadata": {},
   "outputs": [],
   "source": [
    "import torch.optim as optim\n",
    "\n",
    "optimizer = optim.Adam(model.parameters(), lr=1e-3)"
   ]
  },
  {
   "cell_type": "code",
   "execution_count": 12,
   "id": "9dc73a24-8d70-4c59-83f5-55861484c3b8",
   "metadata": {},
   "outputs": [],
   "source": [
    "model = SimpleNN()"
   ]
  },
  {
   "cell_type": "code",
   "execution_count": 13,
   "id": "19c47f71-f4bc-444b-bdda-62bd579468eb",
   "metadata": {},
   "outputs": [],
   "source": [
    "# tf.fit(model, data, loss_fn, optimizer, epoches=100) # 텐서플로우"
   ]
  },
  {
   "cell_type": "code",
   "execution_count": 14,
   "id": "7f7268b3-1abb-4b45-b8ba-100da9d0d5d4",
   "metadata": {},
   "outputs": [
    {
     "name": "stdout",
     "output_type": "stream",
     "text": [
      "loss tensor(-0., grad_fn=<DivBackward1>)\n"
     ]
    }
   ],
   "source": [
    "# loss_fn = nn.BCELoss()\n",
    "loss_fn = nn.CrossEntropyLoss() # 확률로 결과가 나옴\n",
    "optimizer = optim.Adam(model.parameters(), lr=0.001)\n",
    "\n",
    "for epoch in range(1): # 파이 토치\n",
    "    optimizer.zero_grad()\n",
    "    outputs = model(and_data) # 바뀐 weight 값이 계속 반복\n",
    "    loss = loss_fn(outputs, and_labels)\n",
    "    print('loss', loss)\n",
    "    loss.backward() # 미분\n",
    "    optimizer.step() # 반대방향"
   ]
  },
  {
   "cell_type": "code",
   "execution_count": 15,
   "id": "9c9e063f-77dd-4d9b-8b7b-a09161dc9f27",
   "metadata": {},
   "outputs": [
    {
     "data": {
      "text/plain": [
       "tensor([[0.4035],\n",
       "        [0.4408],\n",
       "        [0.3433],\n",
       "        [0.3785]], grad_fn=<SigmoidBackward0>)"
      ]
     },
     "execution_count": 15,
     "metadata": {},
     "output_type": "execute_result"
    }
   ],
   "source": [
    "model(and_data)"
   ]
  },
  {
   "cell_type": "code",
   "execution_count": 16,
   "id": "c7320797-cb16-41d9-b803-710cf1967573",
   "metadata": {},
   "outputs": [],
   "source": [
    "# def and_gate(x1, x2):\n",
    "#     return x1 and x2"
   ]
  },
  {
   "cell_type": "code",
   "execution_count": 17,
   "id": "cf2ff68a-6092-45ef-8c29-816dfeacfaf4",
   "metadata": {},
   "outputs": [
    {
     "ename": "NameError",
     "evalue": "name 'x3' is not defined",
     "output_type": "error",
     "traceback": [
      "\u001b[1;31m---------------------------------------------------------------------------\u001b[0m",
      "\u001b[1;31mNameError\u001b[0m                                 Traceback (most recent call last)",
      "Cell \u001b[1;32mIn[17], line 12\u001b[0m\n\u001b[0;32m     10\u001b[0m ax\u001b[38;5;241m.\u001b[39mscatter(x1, y1)\n\u001b[0;32m     11\u001b[0m ax\u001b[38;5;241m.\u001b[39mscatter(x2, y2)\n\u001b[1;32m---> 12\u001b[0m ax\u001b[38;5;241m.\u001b[39mplot(\u001b[43mx3\u001b[49m, y3)\n\u001b[0;32m     13\u001b[0m ax\u001b[38;5;241m.\u001b[39mset_xlim(\u001b[38;5;241m-\u001b[39m\u001b[38;5;241m0.2\u001b[39m, \u001b[38;5;241m1.2\u001b[39m)\n\u001b[0;32m     14\u001b[0m ax\u001b[38;5;241m.\u001b[39mset_ylim(\u001b[38;5;241m-\u001b[39m\u001b[38;5;241m0.2\u001b[39m, \u001b[38;5;241m1.2\u001b[39m)\n",
      "\u001b[1;31mNameError\u001b[0m: name 'x3' is not defined"
     ]
    },
    {
     "data": {
      "image/png": "[encoded data removed]",
      "text/plain": [
       "<Figure size 640x480 with 1 Axes>"
      ]
     },
     "metadata": {},
     "output_type": "display_data"
    }
   ],
   "source": [
    "import matplotlib.pyplot as plt\n",
    "\n",
    "x1 = [0, 0, 1]\n",
    "y1 = [0, 1, 0]\n",
    "x2 = [1]\n",
    "y2 = [1]\n",
    "\n",
    "fig, ax = plt.subplots()\n",
    "\n",
    "ax.scatter(x1, y1)\n",
    "ax.scatter(x2, y2)\n",
    "ax.plot(x3, y3)\n",
    "ax.set_xlim(-0.2, 1.2)\n",
    "ax.set_ylim(-0.2, 1.2)"
   ]
  },
  {
   "cell_type": "code",
   "execution_count": null,
   "id": "3b9b0e3d-40c2-4edc-85d3-d63624c60dab",
   "metadata": {},
   "outputs": [],
   "source": []
  }
 ],
 "metadata": {
  "kernelspec": {
   "display_name": "Python 3 (ipykernel)",
   "language": "python",
   "name": "python3"
  },
  "language_info": {
   "codemirror_mode": {
    "name": "ipython",
    "version": 3
   },
   "file_extension": ".py",
   "mimetype": "text/x-python",
   "name": "python",
   "nbconvert_exporter": "python",
   "pygments_lexer": "ipython3",
   "version": "3.12.4"
  }
 },
 "nbformat": 4,
 "nbformat_minor": 5
}

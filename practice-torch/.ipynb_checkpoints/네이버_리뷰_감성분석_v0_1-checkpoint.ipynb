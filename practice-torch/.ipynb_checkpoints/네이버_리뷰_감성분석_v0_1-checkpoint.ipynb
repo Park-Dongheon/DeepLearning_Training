{
 "cells": [
  {
   "cell_type": "code",
   "execution_count": 1,
   "metadata": {
    "colab": {
     "base_uri": "https://localhost:8080/"
    },
    "id": "5ykFDtK6Pe94",
    "outputId": "abf3b749-04e3-45ac-8e07-666cf7fa6f09"
   },
   "outputs": [
    {
     "name": "stdout",
     "output_type": "stream",
     "text": [
      "Collecting konlpy\n",
      "  Using cached konlpy-0.6.0-py2.py3-none-any.whl.metadata (1.9 kB)\n",
      "Collecting JPype1>=0.7.0 (from konlpy)\n",
      "  Downloading JPype1-1.5.0-cp312-cp312-win_amd64.whl.metadata (5.0 kB)\n",
      "Collecting lxml>=4.1.0 (from konlpy)\n",
      "  Downloading lxml-5.3.0-cp312-cp312-win_amd64.whl.metadata (3.9 kB)\n",
      "Requirement already satisfied: numpy>=1.6 in c:\\users\\user\\anaconda3\\envs\\torch-book\\lib\\site-packages (from konlpy) (1.26.4)\n",
      "Requirement already satisfied: packaging in c:\\users\\user\\anaconda3\\envs\\torch-book\\lib\\site-packages (from JPype1>=0.7.0->konlpy) (24.1)\n",
      "Using cached konlpy-0.6.0-py2.py3-none-any.whl (19.4 MB)\n",
      "Downloading JPype1-1.5.0-cp312-cp312-win_amd64.whl (352 kB)\n",
      "   ---------------------------------------- 0.0/352.2 kB ? eta -:--:--\n",
      "   --- ------------------------------------ 30.7/352.2 kB 1.3 MB/s eta 0:00:01\n",
      "   -------------------------------- ------- 286.7/352.2 kB 4.4 MB/s eta 0:00:01\n",
      "   ---------------------------------------- 352.2/352.2 kB 4.4 MB/s eta 0:00:00\n",
      "Downloading lxml-5.3.0-cp312-cp312-win_amd64.whl (3.8 MB)\n",
      "   ---------------------------------------- 0.0/3.8 MB ? eta -:--:--\n",
      "   --- ------------------------------------ 0.3/3.8 MB 8.9 MB/s eta 0:00:01\n",
      "   ----- ---------------------------------- 0.5/3.8 MB 6.0 MB/s eta 0:00:01\n",
      "   ----------- ---------------------------- 1.1/3.8 MB 8.4 MB/s eta 0:00:01\n",
      "   -------------- ------------------------- 1.4/3.8 MB 8.1 MB/s eta 0:00:01\n",
      "   ----------------- ---------------------- 1.7/3.8 MB 7.8 MB/s eta 0:00:01\n",
      "   -------------------- ------------------- 2.0/3.8 MB 7.3 MB/s eta 0:00:01\n",
      "   ------------------------- -------------- 2.5/3.8 MB 7.8 MB/s eta 0:00:01\n",
      "   ---------------------------- ----------- 2.7/3.8 MB 7.4 MB/s eta 0:00:01\n",
      "   ------------------------------- -------- 3.1/3.8 MB 7.8 MB/s eta 0:00:01\n",
      "   ---------------------------------- ----- 3.3/3.8 MB 7.3 MB/s eta 0:00:01\n",
      "   -------------------------------------- - 3.7/3.8 MB 7.3 MB/s eta 0:00:01\n",
      "   ---------------------------------------  3.8/3.8 MB 7.2 MB/s eta 0:00:01\n",
      "   ---------------------------------------- 3.8/3.8 MB 7.0 MB/s eta 0:00:00\n",
      "Installing collected packages: lxml, JPype1, konlpy\n",
      "Successfully installed JPype1-1.5.0 konlpy-0.6.0 lxml-5.3.0\n"
     ]
    }
   ],
   "source": [
    "!pip install konlpy"
   ]
  },
  {
   "cell_type": "code",
   "execution_count": 2,
   "metadata": {
    "id": "nsHCvcQNP05D"
   },
   "outputs": [],
   "source": [
    "import pandas as pd\n",
    "import numpy as np\n",
    "import matplotlib.pyplot as plt\n",
    "\n",
    "import pickle\n",
    "import re\n",
    "import urllib.request\n",
    "\n",
    "from konlpy.tag import Okt\n",
    "from collections import Counter\n",
    "from sklearn.model_selection import train_test_split\n",
    "from tqdm import tqdm"
   ]
  },
  {
   "cell_type": "code",
   "execution_count": 3,
   "metadata": {
    "colab": {
     "base_uri": "https://localhost:8080/"
    },
    "id": "GYNjxo-KRPvG",
    "outputId": "c664cc44-c8b8-4dec-eb21-77539e067d48"
   },
   "outputs": [
    {
     "data": {
      "text/plain": [
       "('ratings_test.txt', <http.client.HTTPMessage at 0x1e51f3d75c0>)"
      ]
     },
     "execution_count": 3,
     "metadata": {},
     "output_type": "execute_result"
    }
   ],
   "source": [
    "urllib.request.urlretrieve(\"https://raw.githubusercontent.com/e9t/nsmc/master/ratings_train.txt\",\n",
    "                           filename=\"ratings_train.txt\")\n",
    "urllib.request.urlretrieve(\"https://raw.githubusercontent.com/e9t/nsmc/master/ratings_test.txt\",\n",
    "                           filename=\"ratings_test.txt\")"
   ]
  },
  {
   "cell_type": "markdown",
   "metadata": {
    "id": "XzB69_LGSFxL"
   },
   "source": [
    "https://raw.githubusercontent.com/e9t/nsmc/master/ratings_train.txt"
   ]
  },
  {
   "cell_type": "code",
   "execution_count": null,
   "metadata": {},
   "outputs": [],
   "source": []
  }
 ],
 "metadata": {
  "accelerator": "GPU",
  "colab": {
   "gpuType": "T4",
   "provenance": []
  },
  "kernelspec": {
   "display_name": "Python 3 (ipykernel)",
   "language": "python",
   "name": "python3"
  },
  "language_info": {
   "codemirror_mode": {
    "name": "ipython",
    "version": 3
   },
   "file_extension": ".py",
   "mimetype": "text/x-python",
   "name": "python",
   "nbconvert_exporter": "python",
   "pygments_lexer": "ipython3",
   "version": "3.12.3"
  }
 },
 "nbformat": 4,
 "nbformat_minor": 4
}

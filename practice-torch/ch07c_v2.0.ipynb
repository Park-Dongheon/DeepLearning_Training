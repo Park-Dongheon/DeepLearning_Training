{
 "cells": [
  {
   "cell_type": "code",
   "execution_count": 1,
   "id": "d5c8089f-2658-49e1-9063-9dd76f367e03",
   "metadata": {},
   "outputs": [],
   "source": [
    "import torch\n",
    "import torch.nn as nn"
   ]
  },
  {
   "cell_type": "code",
   "execution_count": 8,
   "id": "d5452883-a3bd-43ee-bde5-863f941881d6",
   "metadata": {},
   "outputs": [
    {
     "data": {
      "text/plain": [
       "LSTM(15, 20, batch_first=True)"
      ]
     },
     "execution_count": 8,
     "metadata": {},
     "output_type": "execute_result"
    }
   ],
   "source": [
    "lstm = nn.LSTM(input_size=15, hidden_size=20, num_layers=1, batch_first=True) # batch_first=True\n",
    "lstm"
   ]
  },
  {
   "cell_type": "code",
   "execution_count": 9,
   "id": "d9f4c241-e439-46e5-8d7d-c30e15d15ef6",
   "metadata": {},
   "outputs": [
    {
     "data": {
      "text/plain": [
       "torch.Size([3, 35, 15])"
      ]
     },
     "execution_count": 9,
     "metadata": {},
     "output_type": "execute_result"
    }
   ],
   "source": [
    "input = torch.zeros(3, 35, 15)\n",
    "input.shape"
   ]
  },
  {
   "cell_type": "code",
   "execution_count": 10,
   "id": "a3400678-372c-4f0b-b2f6-f0136ab9ba9b",
   "metadata": {},
   "outputs": [
    {
     "name": "stdout",
     "output_type": "stream",
     "text": [
      "torch.Size([3, 35, 20]) torch.Size([1, 3, 20]) torch.Size([1, 3, 20])\n"
     ]
    }
   ],
   "source": [
    "outputs, (hidden_state, cell_state) = lstm(input)\n",
    "print(outputs.shape, hidden_state.shape, cell_state.shape )"
   ]
  },
  {
   "cell_type": "code",
   "execution_count": 14,
   "id": "258dfc63-6199-45e4-8dcb-7fed450963a5",
   "metadata": {},
   "outputs": [
    {
     "data": {
      "text/plain": [
       "LSTM(15, 20, num_layers=2, batch_first=True)"
      ]
     },
     "execution_count": 14,
     "metadata": {},
     "output_type": "execute_result"
    }
   ],
   "source": [
    "lstm = nn.LSTM(input_size=15, hidden_size=20, num_layers=2, batch_first=True) # batch_first=True\n",
    "lstm"
   ]
  },
  {
   "cell_type": "code",
   "execution_count": 15,
   "id": "7a2a3a23-0167-4fae-acd3-8d117a07d2c2",
   "metadata": {},
   "outputs": [
    {
     "data": {
      "text/plain": [
       "torch.Size([1, 35, 15])"
      ]
     },
     "execution_count": 15,
     "metadata": {},
     "output_type": "execute_result"
    }
   ],
   "source": [
    "input = torch.zeros(1, 35, 15)\n",
    "input.shape"
   ]
  },
  {
   "cell_type": "code",
   "execution_count": 16,
   "id": "660b1abe-c114-4297-923c-c9fca3643d74",
   "metadata": {},
   "outputs": [
    {
     "name": "stdout",
     "output_type": "stream",
     "text": [
      "torch.Size([1, 35, 20]) torch.Size([2, 1, 20]) torch.Size([2, 1, 20])\n"
     ]
    }
   ],
   "source": [
    "outputs, (hidden_state, cell_state) = lstm(input)\n",
    "print(outputs.shape, hidden_state.shape, cell_state.shape )"
   ]
  },
  {
   "cell_type": "code",
   "execution_count": 17,
   "id": "dc0e0410-fab2-4fc5-ae26-c7a16e174347",
   "metadata": {},
   "outputs": [
    {
     "data": {
      "text/plain": [
       "(torch.Size([2, 1, 20]), torch.Size([2, 20]))"
      ]
     },
     "execution_count": 17,
     "metadata": {},
     "output_type": "execute_result"
    }
   ],
   "source": [
    "hidden_state.shape, hidden_state.view(-1, 20).shape"
   ]
  },
  {
   "cell_type": "code",
   "execution_count": null,
   "id": "a4191b89-4d77-4e9a-8b41-4b806468564e",
   "metadata": {},
   "outputs": [],
   "source": []
  }
 ],
 "metadata": {
  "kernelspec": {
   "display_name": "Python 3 (ipykernel)",
   "language": "python",
   "name": "python3"
  },
  "language_info": {
   "codemirror_mode": {
    "name": "ipython",
    "version": 3
   },
   "file_extension": ".py",
   "mimetype": "text/x-python",
   "name": "python",
   "nbconvert_exporter": "python",
   "pygments_lexer": "ipython3",
   "version": "3.12.3"
  }
 },
 "nbformat": 4,
 "nbformat_minor": 5
}
